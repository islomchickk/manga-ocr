{
 "cells": [
  {
   "cell_type": "code",
   "execution_count": 1,
   "id": "6f93c9a5",
   "metadata": {},
   "outputs": [
    {
     "name": "stdout",
     "output_type": "stream",
     "text": [
      "Collecting roboflow\n",
      "  Downloading roboflow-1.2.0-py3-none-any.whl.metadata (9.7 kB)\n",
      "Requirement already satisfied: certifi in c:\\users\\islom\\appdata\\local\\programs\\python\\python310\\lib\\site-packages (from roboflow) (2025.6.15)\n",
      "Requirement already satisfied: idna==3.7 in c:\\users\\islom\\appdata\\local\\programs\\python\\python310\\lib\\site-packages (from roboflow) (3.7)\n",
      "Requirement already satisfied: cycler in c:\\users\\islom\\appdata\\local\\programs\\python\\python310\\lib\\site-packages (from roboflow) (0.12.1)\n",
      "Requirement already satisfied: kiwisolver>=1.3.1 in c:\\users\\islom\\appdata\\local\\programs\\python\\python310\\lib\\site-packages (from roboflow) (1.4.5)\n",
      "Requirement already satisfied: matplotlib in c:\\users\\islom\\appdata\\local\\programs\\python\\python310\\lib\\site-packages (from roboflow) (3.9.0)\n",
      "Requirement already satisfied: numpy>=1.18.5 in c:\\users\\islom\\appdata\\local\\programs\\python\\python310\\lib\\site-packages (from roboflow) (1.26.4)\n",
      "Collecting opencv-python-headless==4.10.0.84 (from roboflow)\n",
      "  Downloading opencv_python_headless-4.10.0.84-cp37-abi3-win_amd64.whl.metadata (20 kB)\n",
      "Requirement already satisfied: Pillow>=7.1.2 in c:\\users\\islom\\appdata\\local\\programs\\python\\python310\\lib\\site-packages (from roboflow) (10.3.0)\n",
      "Collecting pillow-heif<2 (from roboflow)\n",
      "  Downloading pillow_heif-1.0.0-cp310-cp310-win_amd64.whl.metadata (9.8 kB)\n",
      "Collecting pillow-avif-plugin<2 (from roboflow)\n",
      "  Downloading pillow_avif_plugin-1.5.2-cp310-cp310-win_amd64.whl.metadata (2.2 kB)\n",
      "Requirement already satisfied: python-dateutil in c:\\users\\islom\\appdata\\local\\programs\\python\\python310\\lib\\site-packages (from roboflow) (2.9.0.post0)\n",
      "Requirement already satisfied: python-dotenv in c:\\users\\islom\\appdata\\local\\programs\\python\\python310\\lib\\site-packages (from roboflow) (1.0.1)\n",
      "Requirement already satisfied: requests in c:\\users\\islom\\appdata\\local\\programs\\python\\python310\\lib\\site-packages (from roboflow) (2.31.0)\n",
      "Requirement already satisfied: six in c:\\users\\islom\\appdata\\local\\programs\\python\\python310\\lib\\site-packages (from roboflow) (1.16.0)\n",
      "Requirement already satisfied: urllib3>=1.26.6 in c:\\users\\islom\\appdata\\local\\programs\\python\\python310\\lib\\site-packages (from roboflow) (2.4.0)\n",
      "Requirement already satisfied: tqdm>=4.41.0 in c:\\users\\islom\\appdata\\local\\programs\\python\\python310\\lib\\site-packages (from roboflow) (4.66.2)\n",
      "Requirement already satisfied: PyYAML>=5.3.1 in c:\\users\\islom\\appdata\\local\\programs\\python\\python310\\lib\\site-packages (from roboflow) (6.0.1)\n",
      "Requirement already satisfied: requests-toolbelt in c:\\users\\islom\\appdata\\local\\programs\\python\\python310\\lib\\site-packages (from roboflow) (1.0.0)\n",
      "Collecting filetype (from roboflow)\n",
      "  Downloading filetype-1.2.0-py2.py3-none-any.whl.metadata (6.5 kB)\n",
      "Collecting Pillow>=7.1.2 (from roboflow)\n",
      "  Downloading pillow-11.3.0-cp310-cp310-win_amd64.whl.metadata (9.2 kB)\n",
      "Requirement already satisfied: colorama in c:\\users\\islom\\appdata\\local\\programs\\python\\python310\\lib\\site-packages (from tqdm>=4.41.0->roboflow) (0.4.6)\n",
      "Requirement already satisfied: contourpy>=1.0.1 in c:\\users\\islom\\appdata\\local\\programs\\python\\python310\\lib\\site-packages (from matplotlib->roboflow) (1.2.1)\n",
      "Requirement already satisfied: fonttools>=4.22.0 in c:\\users\\islom\\appdata\\local\\programs\\python\\python310\\lib\\site-packages (from matplotlib->roboflow) (4.51.0)\n",
      "Requirement already satisfied: packaging>=20.0 in c:\\users\\islom\\appdata\\local\\programs\\python\\python310\\lib\\site-packages (from matplotlib->roboflow) (23.2)\n",
      "Requirement already satisfied: pyparsing>=2.3.1 in c:\\users\\islom\\appdata\\local\\programs\\python\\python310\\lib\\site-packages (from matplotlib->roboflow) (3.1.2)\n",
      "Requirement already satisfied: charset-normalizer<4,>=2 in c:\\users\\islom\\appdata\\local\\programs\\python\\python310\\lib\\site-packages (from requests->roboflow) (3.3.2)\n",
      "Downloading roboflow-1.2.0-py3-none-any.whl (86 kB)\n",
      "   ---------------------------------------- 0.0/86.8 kB ? eta -:--:--\n",
      "   ---- ----------------------------------- 10.2/86.8 kB ? eta -:--:--\n",
      "   ---------------------------- ----------- 61.4/86.8 kB 648.1 kB/s eta 0:00:01\n",
      "   ------------------------------------- -- 81.9/86.8 kB 508.4 kB/s eta 0:00:01\n",
      "   ---------------------------------------- 86.8/86.8 kB 542.7 kB/s eta 0:00:00\n",
      "Downloading opencv_python_headless-4.10.0.84-cp37-abi3-win_amd64.whl (38.8 MB)\n",
      "   ---------------------------------------- 0.0/38.8 MB ? eta -:--:--\n",
      "   ---------------------------------------- 0.0/38.8 MB ? eta -:--:--\n",
      "   ---------------------------------------- 0.2/38.8 MB 2.1 MB/s eta 0:00:19\n",
      "   ---------------------------------------- 0.2/38.8 MB 2.1 MB/s eta 0:00:19\n",
      "   ---------------------------------------- 0.4/38.8 MB 2.8 MB/s eta 0:00:14\n",
      "    --------------------------------------- 0.6/38.8 MB 2.6 MB/s eta 0:00:15\n",
      "    --------------------------------------- 1.0/38.8 MB 3.8 MB/s eta 0:00:10\n",
      "   - -------------------------------------- 1.4/38.8 MB 4.6 MB/s eta 0:00:09\n",
      "   -- ------------------------------------- 2.0/38.8 MB 5.5 MB/s eta 0:00:07\n",
      "   -- ------------------------------------- 2.5/38.8 MB 6.2 MB/s eta 0:00:06\n",
      "   -- ------------------------------------- 2.8/38.8 MB 6.4 MB/s eta 0:00:06\n",
      "   -- ------------------------------------- 2.8/38.8 MB 6.4 MB/s eta 0:00:06\n",
      "   -- ------------------------------------- 2.8/38.8 MB 6.4 MB/s eta 0:00:06\n",
      "   -- ------------------------------------- 2.8/38.8 MB 6.4 MB/s eta 0:00:06\n",
      "   ----- ---------------------------------- 4.9/38.8 MB 7.8 MB/s eta 0:00:05\n",
      "   ----- ---------------------------------- 4.9/38.8 MB 7.2 MB/s eta 0:00:05\n",
      "   ----- ---------------------------------- 5.4/38.8 MB 7.5 MB/s eta 0:00:05\n",
      "   ----- ---------------------------------- 5.8/38.8 MB 7.5 MB/s eta 0:00:05\n",
      "   ----- ---------------------------------- 5.8/38.8 MB 7.5 MB/s eta 0:00:05\n",
      "   ----- ---------------------------------- 5.8/38.8 MB 7.5 MB/s eta 0:00:05\n",
      "   ------ --------------------------------- 6.5/38.8 MB 7.2 MB/s eta 0:00:05\n",
      "   ------- -------------------------------- 7.0/38.8 MB 7.2 MB/s eta 0:00:05\n",
      "   -------- ------------------------------- 8.4/38.8 MB 8.3 MB/s eta 0:00:04\n",
      "   --------- ------------------------------ 8.8/38.8 MB 8.3 MB/s eta 0:00:04\n",
      "   --------- ------------------------------ 9.2/38.8 MB 8.3 MB/s eta 0:00:04\n",
      "   ---------- ----------------------------- 9.8/38.8 MB 8.5 MB/s eta 0:00:04\n",
      "   ---------- ----------------------------- 10.3/38.8 MB 9.1 MB/s eta 0:00:04\n",
      "   ---------- ----------------------------- 10.6/38.8 MB 9.5 MB/s eta 0:00:03\n",
      "   ----------- ---------------------------- 10.9/38.8 MB 9.8 MB/s eta 0:00:03\n",
      "   ----------- ---------------------------- 11.3/38.8 MB 9.8 MB/s eta 0:00:03\n",
      "   ----------- ---------------------------- 11.6/38.8 MB 9.5 MB/s eta 0:00:03\n",
      "   ------------ --------------------------- 11.9/38.8 MB 9.4 MB/s eta 0:00:03\n",
      "   ------------ --------------------------- 12.2/38.8 MB 9.1 MB/s eta 0:00:03\n",
      "   ------------ --------------------------- 12.5/38.8 MB 9.0 MB/s eta 0:00:03\n",
      "   ------------- -------------------------- 12.8/38.8 MB 8.8 MB/s eta 0:00:03\n",
      "   ------------- -------------------------- 13.2/38.8 MB 10.4 MB/s eta 0:00:03\n",
      "   -------------- ------------------------- 13.9/38.8 MB 9.9 MB/s eta 0:00:03\n",
      "   -------------- ------------------------- 14.2/38.8 MB 9.6 MB/s eta 0:00:03\n",
      "   -------------- ------------------------- 14.3/38.8 MB 9.1 MB/s eta 0:00:03\n",
      "   --------------- ------------------------ 14.7/38.8 MB 8.7 MB/s eta 0:00:03\n",
      "   --------------- ------------------------ 15.1/38.8 MB 8.4 MB/s eta 0:00:03\n",
      "   --------------- ------------------------ 15.3/38.8 MB 8.6 MB/s eta 0:00:03\n",
      "   ---------------- ----------------------- 15.7/38.8 MB 8.5 MB/s eta 0:00:03\n",
      "   ---------------- ----------------------- 16.2/38.8 MB 9.2 MB/s eta 0:00:03\n",
      "   ----------------- ---------------------- 16.6/38.8 MB 9.0 MB/s eta 0:00:03\n",
      "   ----------------- ---------------------- 16.9/38.8 MB 8.8 MB/s eta 0:00:03\n",
      "   ----------------- ---------------------- 17.4/38.8 MB 8.8 MB/s eta 0:00:03\n",
      "   ------------------ --------------------- 18.0/38.8 MB 8.6 MB/s eta 0:00:03\n",
      "   ------------------- -------------------- 18.7/38.8 MB 8.6 MB/s eta 0:00:03\n",
      "   ------------------- -------------------- 19.0/38.8 MB 8.5 MB/s eta 0:00:03\n",
      "   ------------------- -------------------- 19.3/38.8 MB 8.3 MB/s eta 0:00:03\n",
      "   -------------------- ------------------- 19.6/38.8 MB 8.3 MB/s eta 0:00:03\n",
      "   -------------------- ------------------- 19.9/38.8 MB 8.2 MB/s eta 0:00:03\n",
      "   -------------------- ------------------- 20.3/38.8 MB 8.1 MB/s eta 0:00:03\n",
      "   --------------------- ------------------ 20.6/38.8 MB 8.0 MB/s eta 0:00:03\n",
      "   --------------------- ------------------ 20.9/38.8 MB 8.0 MB/s eta 0:00:03\n",
      "   --------------------- ------------------ 21.3/38.8 MB 8.0 MB/s eta 0:00:03\n",
      "   ---------------------- ----------------- 21.7/38.8 MB 8.1 MB/s eta 0:00:03\n",
      "   ----------------------- ---------------- 22.3/38.8 MB 8.5 MB/s eta 0:00:02\n",
      "   ----------------------- ---------------- 22.8/38.8 MB 8.6 MB/s eta 0:00:02\n",
      "   ----------------------- ---------------- 23.2/38.8 MB 8.6 MB/s eta 0:00:02\n",
      "   ------------------------ --------------- 23.6/38.8 MB 8.6 MB/s eta 0:00:02\n",
      "   ------------------------ --------------- 23.6/38.8 MB 8.6 MB/s eta 0:00:02\n",
      "   ------------------------ --------------- 23.6/38.8 MB 8.6 MB/s eta 0:00:02\n",
      "   -------------------------- ------------- 25.4/38.8 MB 9.4 MB/s eta 0:00:02\n",
      "   -------------------------- ------------- 25.8/38.8 MB 9.4 MB/s eta 0:00:02\n",
      "   --------------------------- ------------ 26.2/38.8 MB 9.2 MB/s eta 0:00:02\n",
      "   --------------------------- ------------ 26.8/38.8 MB 9.5 MB/s eta 0:00:02\n",
      "   ---------------------------- ----------- 27.2/38.8 MB 9.6 MB/s eta 0:00:02\n",
      "   ---------------------------- ----------- 27.8/38.8 MB 9.8 MB/s eta 0:00:02\n",
      "   ----------------------------- ---------- 28.1/38.8 MB 9.5 MB/s eta 0:00:02\n",
      "   ----------------------------- ---------- 28.5/38.8 MB 9.4 MB/s eta 0:00:02\n",
      "   ----------------------------- ---------- 29.1/38.8 MB 9.4 MB/s eta 0:00:02\n",
      "   ------------------------------ --------- 29.2/38.8 MB 9.5 MB/s eta 0:00:02\n",
      "   ------------------------------ --------- 29.2/38.8 MB 9.5 MB/s eta 0:00:02\n",
      "   ------------------------------ --------- 29.2/38.8 MB 9.5 MB/s eta 0:00:02\n",
      "   ------------------------------ --------- 29.4/38.8 MB 8.5 MB/s eta 0:00:02\n",
      "   ------------------------------- -------- 30.4/38.8 MB 9.1 MB/s eta 0:00:01\n",
      "   ------------------------------- -------- 30.7/38.8 MB 9.0 MB/s eta 0:00:01\n",
      "   ------------------------------- -------- 31.0/38.8 MB 9.0 MB/s eta 0:00:01\n",
      "   -------------------------------- ------- 31.3/38.8 MB 9.1 MB/s eta 0:00:01\n",
      "   -------------------------------- ------- 31.7/38.8 MB 9.0 MB/s eta 0:00:01\n",
      "   --------------------------------- ------ 32.2/38.8 MB 9.0 MB/s eta 0:00:01\n",
      "   --------------------------------- ------ 32.2/38.8 MB 8.8 MB/s eta 0:00:01\n",
      "   ---------------------------------- ----- 33.1/38.8 MB 8.7 MB/s eta 0:00:01\n",
      "   ---------------------------------- ----- 33.4/38.8 MB 8.8 MB/s eta 0:00:01\n",
      "   ---------------------------------- ----- 33.8/38.8 MB 8.6 MB/s eta 0:00:01\n",
      "   ----------------------------------- ---- 34.2/38.8 MB 9.4 MB/s eta 0:00:01\n",
      "   ----------------------------------- ---- 34.7/38.8 MB 9.0 MB/s eta 0:00:01\n",
      "   ------------------------------------ --- 35.1/38.8 MB 8.6 MB/s eta 0:00:01\n",
      "   ------------------------------------ --- 35.5/38.8 MB 8.4 MB/s eta 0:00:01\n",
      "   ------------------------------------- -- 36.0/38.8 MB 8.4 MB/s eta 0:00:01\n",
      "   ------------------------------------- -- 36.4/38.8 MB 8.4 MB/s eta 0:00:01\n",
      "   -------------------------------------- - 36.9/38.8 MB 8.4 MB/s eta 0:00:01\n",
      "   -------------------------------------- - 37.4/38.8 MB 8.4 MB/s eta 0:00:01\n",
      "   -------------------------------------- - 37.8/38.8 MB 8.3 MB/s eta 0:00:01\n",
      "   ---------------------------------------  38.2/38.8 MB 8.3 MB/s eta 0:00:01\n",
      "   ---------------------------------------  38.6/38.8 MB 8.4 MB/s eta 0:00:01\n",
      "   ---------------------------------------  38.7/38.8 MB 8.4 MB/s eta 0:00:01\n",
      "   ---------------------------------------- 38.8/38.8 MB 8.0 MB/s eta 0:00:00\n",
      "Downloading pillow_avif_plugin-1.5.2-cp310-cp310-win_amd64.whl (9.9 MB)\n",
      "   ---------------------------------------- 0.0/9.9 MB ? eta -:--:--\n",
      "   -- ------------------------------------- 0.7/9.9 MB 21.5 MB/s eta 0:00:01\n",
      "   --- ------------------------------------ 1.0/9.9 MB 10.0 MB/s eta 0:00:01\n",
      "   ----- ---------------------------------- 1.4/9.9 MB 10.9 MB/s eta 0:00:01\n",
      "   ------- -------------------------------- 1.9/9.9 MB 10.0 MB/s eta 0:00:01\n",
      "   --------- ------------------------------ 2.3/9.9 MB 9.7 MB/s eta 0:00:01\n",
      "   ----------- ---------------------------- 2.7/9.9 MB 9.7 MB/s eta 0:00:01\n",
      "   ------------ --------------------------- 3.2/9.9 MB 10.0 MB/s eta 0:00:01\n",
      "   -------------- ------------------------- 3.7/9.9 MB 10.2 MB/s eta 0:00:01\n",
      "   ---------------- ----------------------- 4.1/9.9 MB 9.7 MB/s eta 0:00:01\n",
      "   ------------------ --------------------- 4.6/9.9 MB 10.1 MB/s eta 0:00:01\n",
      "   -------------------- ------------------- 5.0/9.9 MB 10.0 MB/s eta 0:00:01\n",
      "   ---------------------- ----------------- 5.5/9.9 MB 9.7 MB/s eta 0:00:01\n",
      "   ----------------------- ---------------- 5.8/9.9 MB 9.8 MB/s eta 0:00:01\n",
      "   ------------------------- -------------- 6.3/9.9 MB 10.0 MB/s eta 0:00:01\n",
      "   --------------------------- ------------ 6.8/9.9 MB 9.9 MB/s eta 0:00:01\n",
      "   ---------------------------- ----------- 7.0/9.9 MB 9.9 MB/s eta 0:00:01\n",
      "   ------------------------------- -------- 7.6/9.9 MB 9.6 MB/s eta 0:00:01\n",
      "   -------------------------------- ------- 7.9/9.9 MB 9.5 MB/s eta 0:00:01\n",
      "   ---------------------------------- ----- 8.5/9.9 MB 9.8 MB/s eta 0:00:01\n",
      "   ------------------------------------ --- 8.9/9.9 MB 9.7 MB/s eta 0:00:01\n",
      "   ------------------------------------- -- 9.3/9.9 MB 9.6 MB/s eta 0:00:01\n",
      "   ---------------------------------------  9.9/9.9 MB 9.7 MB/s eta 0:00:01\n",
      "   ---------------------------------------- 9.9/9.9 MB 9.3 MB/s eta 0:00:00\n",
      "Downloading pillow_heif-1.0.0-cp310-cp310-win_amd64.whl (5.3 MB)\n",
      "   ---------------------------------------- 0.0/5.3 MB ? eta -:--:--\n",
      "    --------------------------------------- 0.1/5.3 MB ? eta -:--:--\n",
      "   - -------------------------------------- 0.2/5.3 MB 2.5 MB/s eta 0:00:03\n",
      "   --- ------------------------------------ 0.4/5.3 MB 3.1 MB/s eta 0:00:02\n",
      "   ---- ----------------------------------- 0.6/5.3 MB 3.3 MB/s eta 0:00:02\n",
      "   -------- ------------------------------- 1.2/5.3 MB 5.4 MB/s eta 0:00:01\n",
      "   ------------ --------------------------- 1.6/5.3 MB 6.0 MB/s eta 0:00:01\n",
      "   ---------------- ----------------------- 2.1/5.3 MB 6.8 MB/s eta 0:00:01\n",
      "   ----------------- ---------------------- 2.4/5.3 MB 6.5 MB/s eta 0:00:01\n",
      "   ---------------------- ----------------- 3.0/5.3 MB 7.4 MB/s eta 0:00:01\n",
      "   ----------------------- ---------------- 3.1/5.3 MB 7.6 MB/s eta 0:00:01\n",
      "   -------------------------- ------------- 3.5/5.3 MB 7.0 MB/s eta 0:00:01\n",
      "   ----------------------------- ---------- 3.9/5.3 MB 7.3 MB/s eta 0:00:01\n",
      "   -------------------------------- ------- 4.3/5.3 MB 7.2 MB/s eta 0:00:01\n",
      "   ----------------------------------- ---- 4.6/5.3 MB 7.2 MB/s eta 0:00:01\n",
      "   ---------------------------------------  5.3/5.3 MB 7.7 MB/s eta 0:00:01\n",
      "   ---------------------------------------- 5.3/5.3 MB 7.4 MB/s eta 0:00:00\n",
      "Downloading pillow-11.3.0-cp310-cp310-win_amd64.whl (7.0 MB)\n",
      "   ---------------------------------------- 0.0/7.0 MB ? eta -:--:--\n",
      "   --- ------------------------------------ 0.7/7.0 MB 14.7 MB/s eta 0:00:01\n",
      "   ----- ---------------------------------- 1.0/7.0 MB 12.5 MB/s eta 0:00:01\n",
      "   ------- -------------------------------- 1.4/7.0 MB 9.7 MB/s eta 0:00:01\n",
      "   ---------- ----------------------------- 1.8/7.0 MB 9.6 MB/s eta 0:00:01\n",
      "   ---------- ----------------------------- 1.9/7.0 MB 10.1 MB/s eta 0:00:01\n",
      "   ---------- ----------------------------- 1.9/7.0 MB 10.1 MB/s eta 0:00:01\n",
      "   ----------------- ---------------------- 3.1/7.0 MB 10.0 MB/s eta 0:00:01\n",
      "   -------------------- ------------------- 3.5/7.0 MB 9.4 MB/s eta 0:00:01\n",
      "   --------------------- ------------------ 3.8/7.0 MB 9.3 MB/s eta 0:00:01\n",
      "   ------------------------ --------------- 4.2/7.0 MB 9.3 MB/s eta 0:00:01\n",
      "   ------------------------- -------------- 4.5/7.0 MB 9.0 MB/s eta 0:00:01\n",
      "   --------------------------- ------------ 4.9/7.0 MB 8.9 MB/s eta 0:00:01\n",
      "   ------------------------------ --------- 5.3/7.0 MB 9.0 MB/s eta 0:00:01\n",
      "   -------------------------------- ------- 5.6/7.0 MB 8.8 MB/s eta 0:00:01\n",
      "   ---------------------------------- ----- 6.0/7.0 MB 8.7 MB/s eta 0:00:01\n",
      "   ------------------------------------- -- 6.5/7.0 MB 8.8 MB/s eta 0:00:01\n",
      "   -------------------------------------- - 6.7/7.0 MB 8.6 MB/s eta 0:00:01\n",
      "   ---------------------------------------  7.0/7.0 MB 8.8 MB/s eta 0:00:01\n",
      "   ---------------------------------------- 7.0/7.0 MB 8.3 MB/s eta 0:00:00\n",
      "Downloading filetype-1.2.0-py2.py3-none-any.whl (19 kB)\n",
      "Installing collected packages: pillow-avif-plugin, filetype, Pillow, opencv-python-headless, pillow-heif, roboflow\n",
      "  Attempting uninstall: Pillow\n",
      "    Found existing installation: pillow 10.3.0\n",
      "    Uninstalling pillow-10.3.0:\n",
      "      Successfully uninstalled pillow-10.3.0\n",
      "  Attempting uninstall: opencv-python-headless\n",
      "    Found existing installation: opencv-python-headless 4.9.0.80\n",
      "    Uninstalling opencv-python-headless-4.9.0.80:\n",
      "      Successfully uninstalled opencv-python-headless-4.9.0.80\n",
      "Successfully installed Pillow-11.3.0 filetype-1.2.0 opencv-python-headless-4.10.0.84 pillow-avif-plugin-1.5.2 pillow-heif-1.0.0 roboflow-1.2.0\n",
      "Note: you may need to restart the kernel to use updated packages.\n"
     ]
    },
    {
     "name": "stderr",
     "output_type": "stream",
     "text": [
      "\n",
      "[notice] A new release of pip is available: 24.0 -> 25.1.1\n",
      "[notice] To update, run: python.exe -m pip install --upgrade pip\n"
     ]
    }
   ],
   "source": [
    "%pip install roboflow"
   ]
  },
  {
   "cell_type": "code",
   "execution_count": 9,
   "id": "83ade2b4",
   "metadata": {},
   "outputs": [
    {
     "name": "stdout",
     "output_type": "stream",
     "text": [
      "loading Roboflow workspace...\n",
      "loading Roboflow project...\n"
     ]
    },
    {
     "name": "stderr",
     "output_type": "stream",
     "text": [
      "Downloading Dataset Version Zip in manga-translator-detection-4 to yolov8:: 100%|██████████| 538945/538945 [03:01<00:00, 2965.88it/s] "
     ]
    },
    {
     "name": "stdout",
     "output_type": "stream",
     "text": [
      "\n"
     ]
    },
    {
     "name": "stderr",
     "output_type": "stream",
     "text": [
      "\n",
      "Extracting Dataset Version Zip to manga-translator-detection-4 in yolov8:: 100%|██████████| 10492/10492 [00:06<00:00, 1694.38it/s]\n"
     ]
    }
   ],
   "source": [
    "from roboflow import Roboflow\n",
    "rf = Roboflow(api_key=\"EwT5UrQw7iDNxx1mC9Ob\")\n",
    "project = rf.workspace(\"sam64-t4u3d\").project(\"manga-translator-detection-r1kli\")\n",
    "version = project.version(4)\n",
    "dataset = version.download(\"yolov8\")\n",
    "                "
   ]
  },
  {
   "cell_type": "code",
   "execution_count": 15,
   "id": "86a831d8",
   "metadata": {},
   "outputs": [
    {
     "data": {
      "text/plain": [
       "('-1005-_jpg.rf.f38a37f7b27806f56945b70a2dc31b29.jpg',\n",
       " '-1005-_jpg.rf.f38a37f7b27806f56945b70a2dc31b29.txt')"
      ]
     },
     "execution_count": 15,
     "metadata": {},
     "output_type": "execute_result"
    }
   ],
   "source": [
    "import os\n",
    "train_folder = \"../data/raw/manga-translator-detection-4/train\"\n",
    "train_labels_path = f\"{train_folder}/labels\"\n",
    "train_images_path = f\"{train_folder}/images\"\n",
    "train_images_names = os.listdir(train_images_path)\n",
    "train_labels_names = [file.replace(\".jpg\", \".txt\") for file in train_images_names]\n",
    "train_images_names[0], train_labels_names[0]"
   ]
  },
  {
   "cell_type": "code",
   "execution_count": 44,
   "id": "bdc804f5",
   "metadata": {},
   "outputs": [],
   "source": [
    "example_image = f\"{train_images_path}/{train_images_names[0]}\"\n",
    "example_label = f\"{train_labels_path}/{train_labels_names[0]}\"\n",
    "with open(example_label, 'rb') as f:\n",
    "    label = []\n",
    "    for line in f.readlines():\n",
    "        label.append(list(map(float, line.decode(\"utf-8\").strip().split(' '))))"
   ]
  },
  {
   "cell_type": "code",
   "execution_count": 51,
   "id": "4609b2ae",
   "metadata": {},
   "outputs": [],
   "source": [
    "from utils import show_img_with_bbox"
   ]
  },
  {
   "cell_type": "code",
   "execution_count": 3,
   "id": "c678d890",
   "metadata": {},
   "outputs": [
    {
     "data": {
      "text/plain": [
       "2033"
      ]
     },
     "execution_count": 3,
     "metadata": {},
     "output_type": "execute_result"
    }
   ],
   "source": [
    "import os\n",
    "\n",
    "len(os.listdir(\"../data/raw/manga-translator-detection-4/train/images\"))"
   ]
  },
  {
   "cell_type": "code",
   "execution_count": null,
   "id": "5d8ac00f",
   "metadata": {},
   "outputs": [],
   "source": []
  }
 ],
 "metadata": {
  "kernelspec": {
   "display_name": "Python 3",
   "language": "python",
   "name": "python3"
  },
  "language_info": {
   "codemirror_mode": {
    "name": "ipython",
    "version": 3
   },
   "file_extension": ".py",
   "mimetype": "text/x-python",
   "name": "python",
   "nbconvert_exporter": "python",
   "pygments_lexer": "ipython3",
   "version": "3.10.11"
  }
 },
 "nbformat": 4,
 "nbformat_minor": 5
}
